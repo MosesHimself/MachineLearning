{
 "cells": [
  {
   "cell_type": "code",
   "execution_count": 1,
   "metadata": {
    "collapsed": true
   },
   "outputs": [],
   "source": [
    "from matplotlib import pyplot as plt\n",
    "import scipy.io as sp\n",
    "import numpy as np\n",
    "from numpy.linalg import inv\n",
    "from mpl_toolkits.mplot3d import Axes3D\n",
    "from scipy.stats import multivariate_normal as mn"
   ]
  },
  {
   "cell_type": "code",
   "execution_count": 2,
   "metadata": {
    "collapsed": true
   },
   "outputs": [],
   "source": [
    "#number 1\n",
    "\n",
    "#The mean vector consists of the means of each variable\n",
    "\n",
    "#univariate\n",
    "def average(x):\n",
    "    average = sum(x) / x.size\n",
    "    return average\n",
    "\n",
    "#multivariate\n",
    "def mean(x):\n",
    "    return np.apply_along_axis(average, axis=0, arr=x)\n",
    "\n",
    "\n",
    "#the variance-covariance matrix consists of the variances \n",
    "#of the variables along the main diagonal and the covariances \n",
    "#between each pair of variables in the other matrix positions.\n",
    "\n",
    "def cov(c1, c2, d, m):\n",
    "    n, v = d.shape\n",
    "    sum = 0\n",
    "    for i in range(0, n):\n",
    "        x = d[i][c1] - m[c1]\n",
    "        y = d[i][c2] - m[c2]\n",
    "        sum += x * y\n",
    "    return sum / (n - 1)\n",
    "\n",
    "\n",
    "def covariance(x):\n",
    "    n, v = x.shape\n",
    "    array = np.zeros(shape=(v,v))\n",
    "    for i in range(0,v):\n",
    "        for j in range(0,v):\n",
    "            array[i][j] = cov(i, j, x, mean(x))\n",
    "    return array\n",
    "\n"
   ]
  },
  {
   "cell_type": "code",
   "execution_count": 3,
   "metadata": {},
   "outputs": [
    {
     "data": {
      "text/plain": [
       "array([ 4.1  ,  2.05 ,  0.595])"
      ]
     },
     "execution_count": 3,
     "metadata": {},
     "output_type": "execute_result"
    }
   ],
   "source": [
    "d1  = np.array([[4.0, 2.0, 0.60], \n",
    "                [4.2, 2.1, 0.59],\n",
    "                [3.9, 2.0, 0.58],\n",
    "                [4.3, 2.1, 0.62],\n",
    "                [4.1, 2.2, 0.63]])\n",
    "\n",
    "d2 = np.array([[4.0, 2.0, 0.60], \n",
    "              [4.2, 2.1, 0.59]])\n",
    "\n",
    "mean(d2)\n"
   ]
  },
  {
   "cell_type": "code",
   "execution_count": 4,
   "metadata": {},
   "outputs": [
    {
     "data": {
      "text/plain": [
       "1.3257798865921469"
      ]
     },
     "execution_count": 4,
     "metadata": {},
     "output_type": "execute_result"
    }
   ],
   "source": [
    "\n",
    "\n",
    "\n",
    "d2  = np.array([[1, 1, 1],\n",
    "                [1, 2, 1],\n",
    "                [1, 3, 2],\n",
    "                [1, 4, 3],\n",
    "                [2, 4, 3]])\n",
    "\n",
    "#Write a generic Matlab function1\n",
    "#to compute the Mahalanobis distance between two arbitrary\n",
    "#samples x1 and x2 of a given Gaussian distribution with covariance Σ, mean µ, and dimension d.\n",
    "\n",
    "#(x - mu)T * sigma_i * (x - mu)\n",
    "def mahalanobis(x, covariance, mean):\n",
    "    meanDistance = np.subtract(x, mean)\n",
    "    tmp = np.matmul(meanDistance, inv(covariance))\n",
    "    result = np.matmul(tmp, meanDistance.transpose())\n",
    "    return np.sqrt(result)\n",
    "    \n",
    "x1 = np.array([4.2, 2.1, 0.59])\n",
    "x2 = np.array([4.0, 2.0, 0.60])\n",
    "\n",
    "mahalanobis(x2, covariance(d1), mean(d1))"
   ]
  },
  {
   "cell_type": "code",
   "execution_count": 94,
   "metadata": {
    "collapsed": true
   },
   "outputs": [],
   "source": [
    "def discriminant(x, covariance, mean, prior, dimension):\n",
    "    maha = (-0.5) * mahalanobis(x, covariance, mean)\n",
    "    det = (-0.5) * np.log(np.linalg.det(covariance))\n",
    "    dem = (dimension / -2) * (np.log(2 * np.pi))\n",
    "    pri = np.log(prior)\n",
    "    return (maha - dem - det + pri)\n",
    "\n",
    "#class1 = np.array([[-5.01, -8.12,]])\n",
    "\n"
   ]
  },
  {
   "cell_type": "code",
   "execution_count": 95,
   "metadata": {
    "collapsed": true
   },
   "outputs": [],
   "source": [
    "data = np.array(sp.loadmat(\"./data_class3.mat\")[\"Data\"][0])"
   ]
  },
  {
   "cell_type": "code",
   "execution_count": 96,
   "metadata": {},
   "outputs": [
    {
     "name": "stdout",
     "output_type": "stream",
     "text": [
      "[1 3 2]\n",
      "class: 0, descriminant: 5.51988947960734\n",
      "class: 1, descriminant: 4.6157051891423535\n",
      "class: 2, descriminant: 2.6014414744658856\n",
      "[4 6 1]\n",
      "class: 0, descriminant: 5.176052949585272\n",
      "class: 1, descriminant: 4.269605236314976\n",
      "class: 2, descriminant: 2.4900407283762904\n",
      "[ 7 -1  0]\n",
      "class: 0, descriminant: 5.087115686954781\n",
      "class: 1, descriminant: 4.122916942915008\n",
      "class: 2, descriminant: 2.2579075994252227\n",
      "[-2  6  5]\n",
      "class: 0, descriminant: 4.738189081501383\n",
      "class: 1, descriminant: 4.073952164983587\n",
      "class: 2, descriminant: 0.47840055136500026\n"
     ]
    }
   ],
   "source": [
    "classes = []\n",
    "classes.append(data[0].transpose())\n",
    "classes.append(data[1].transpose())\n",
    "classes.append(data[2].transpose())\n",
    "\n",
    "\n",
    "apriori = np.array([0.6, 0.2, 0.2])\n",
    "datapoints = np.array([[1, 3, 2], [4, 6, 1], [7, -1, 0], [-2, 6, 5]])\n",
    "\n",
    "numClass = len(classes)\n",
    "for dat in range(0, len(datapoints)):\n",
    "    print(datapoints[dat])\n",
    "    for c in range(0, numClass):\n",
    "        d = discriminant(datapoints[dat], covariance(classes[c]), mean(classes[c]), apriori[c], numClass)\n",
    "        print(f\"class: {c}, descriminant: {d}\")\n",
    "        \n"
   ]
  },
  {
   "cell_type": "code",
   "execution_count": null,
   "metadata": {
    "collapsed": true
   },
   "outputs": [],
   "source": [
    "\n"
   ]
  },
  {
   "cell_type": "code",
   "execution_count": 97,
   "metadata": {
    "collapsed": true
   },
   "outputs": [],
   "source": [
    "#number 2\n",
    "\n",
    "def generateNormalDist(num, mu, sigma):\n",
    "    x = []\n",
    "    for i in range(0, mu.size):\n",
    "        s = np.random.standard_normal(num)\n",
    "        x.append(s)\n",
    "\n",
    "    \n",
    "    l, phi = np.linalg.eig(sigma)\n",
    "    \n",
    "    #convert into diagonal square root\n",
    "    L = np.diag(np.sqrt(l))\n",
    "    \n",
    "    #scale the varience\n",
    "    y = np.matmul(L, x)\n",
    "    \n",
    "    data = np.matmul(phi, y)\n",
    "    \n",
    "    for i in range(0, data.shape[1]):\n",
    "        data[0][i] += mu[0]\n",
    "        data[1][i] += mu[1]\n",
    "    \n",
    "    \n",
    "    return data\n"
   ]
  },
  {
   "cell_type": "code",
   "execution_count": 101,
   "metadata": {
    "collapsed": true
   },
   "outputs": [],
   "source": [
    "def plot_classes(class1, class2, i):\n",
    "\n",
    "    fig, ax = plt.subplots()\n",
    "\n",
    "    ax.scatter(\n",
    "        class1[0],\n",
    "        class1[1],\n",
    "        c=\"#c1d657\",\n",
    "        label=f\"Class {0}\",\n",
    "        alpha=0.5,\n",
    "        edgecolors=\"none\")\n",
    "\n",
    "    ax.scatter(\n",
    "        class2[0],\n",
    "        class2[1],\n",
    "        c=\"#57d6b6\",\n",
    "        label=f\"Class {1}\",\n",
    "        alpha=0.5,\n",
    "        edgecolors=\"none\")\n",
    "\n",
    "    ax.legend()\n",
    "    ax.grid(True)\n",
    "    plt.savefig(f\"hw2_{i}\")\n",
    "\n",
    "\n",
    "def plot_3d(class1, u1, cov1, i):\n",
    "\n",
    "    X, Y = np.meshgrid(class1[0], class1[1])\n",
    "    xy = np.column_stack([X.flat, Y.flat])\n",
    "\n",
    "    z = mn.pdf(xy, mean=u1, cov=cov1)\n",
    "    Z = z.reshape(X.shape)\n",
    "\n",
    "    fig = plt.figure()\n",
    "    ax = fig.add_subplot(111, projection='3d')\n",
    "    ax.plot_surface(X, Y, Z, linewidth=0, antialiased=True)\n",
    "    plt.savefig(f\"hw2_3d_{i}\")"
   ]
  },
  {
   "cell_type": "code",
   "execution_count": 102,
   "metadata": {
    "collapsed": true
   },
   "outputs": [],
   "source": [
    "def graph_gaussian(number_of_samples, u1, u2, cov1, cov2, i):\n",
    "    # correlated data\n",
    "    class1 = generateNormalDist(number_of_samples, u1, cov1)\n",
    "    class2 = generateNormalDist(number_of_samples, u2, cov2)\n",
    "    plot_classes(class1, class2, i)\n",
    "    plot_3d(class1, u1, cov1, i)"
   ]
  },
  {
   "cell_type": "code",
   "execution_count": 107,
   "metadata": {
    "collapsed": true
   },
   "outputs": [],
   "source": [
    "i = 2\n",
    "mu1 = np.array([2, 8])\n",
    "mu2 = np.array([8, 2])\n",
    "sigma1 = sigma2 = np.array([[4.1, 0],\n",
    "                           [0, 2.8]])\n",
    "num = 1000\n",
    "\n",
    "sigma1[0, 1] = 0.4\n",
    "sigma1[1, 0] = 0.4\n",
    "\n",
    "sigma1 = np.array([[2.1, 1.5], [1.5, 3.8]])\n",
    "\n",
    "class1 = generateNormalDist(num, mu1, sigma1)\n",
    "class2 = generateNormalDist(num, mu2, sigma2)\n",
    "\n",
    "plot_classes(class1, class2, i)\n",
    "plot_3d(class1, mu1, sigma1, i)"
   ]
  },
  {
   "cell_type": "code",
   "execution_count": null,
   "metadata": {
    "collapsed": true
   },
   "outputs": [],
   "source": []
  },
  {
   "cell_type": "code",
   "execution_count": null,
   "metadata": {
    "collapsed": true
   },
   "outputs": [],
   "source": []
  }
 ],
 "metadata": {
  "kernelspec": {
   "display_name": "Python 3",
   "language": "python",
   "name": "python3"
  },
  "language_info": {
   "codemirror_mode": {
    "name": "ipython",
    "version": 3
   },
   "file_extension": ".py",
   "mimetype": "text/x-python",
   "name": "python",
   "nbconvert_exporter": "python",
   "pygments_lexer": "ipython3",
   "version": "3.6.2"
  }
 },
 "nbformat": 4,
 "nbformat_minor": 2
}
