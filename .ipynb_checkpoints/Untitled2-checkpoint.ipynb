{
 "cells": [
  {
   "cell_type": "code",
   "execution_count": 1,
   "metadata": {
    "collapsed": true
   },
   "outputs": [],
   "source": [
    "from matplotlib import pyplot as plt\n",
    "import scipy.io as sp\n",
    "import numpy as np"
   ]
  },
  {
   "cell_type": "code",
   "execution_count": null,
   "metadata": {
    "collapsed": true
   },
   "outputs": [],
   "source": [
    "def bayesianBeliefNetwork(a, b, x, c, d):\n",
    "\n",
    "    #probability of each season\n",
    "    pa = np.array([.25, .25, .25, .25])\n",
    "    \n",
    "    #p of nAtlantic, p of sAtlantic\n",
    "    pb = np.array([0.6, 0.4])\n",
    "\n",
    "    #probability of salmon(row is season, col is locale)\n",
    "    px1ab = np.array([0.5, 0.7],\n",
    "                     [0.6, 0.8],\n",
    "                     [0.4, 0.1],\n",
    "                     [0.2, 0.3])\n",
    "\n",
    "    #probability of sea bass(row is season, col is locale)\n",
    "    px2ab = np.array([0.5, 0.3],\n",
    "                     [0.4, 0.2],\n",
    "                     [0.6, 0.9],\n",
    "                     [0.8, 0.7])\n",
    "\n",
    "    #p of c given salmon(light, med, dark)\n",
    "    pcx1 = np.array([0.6, 0.2, 0.2])\n",
    "    #p of c given seabass(light, med, dark)\n",
    "    pcx2 = np.array([0.2, 0.3, 0.5])\n",
    "\n",
    "    #p of d given salmon(wide, thin)\n",
    "    pdx1 = np.array([0.3, 0.7])\n",
    "    #p of d given seabass(wide, thin)\n",
    "    pdx2 = np.array([0.6, 0.4])\n",
    "    \n",
    "    if(x = 0):\n",
    "        product = pa[a] * pb[b]\n",
    "\n"
   ]
  }
 ],
 "metadata": {
  "kernelspec": {
   "display_name": "Python 3",
   "language": "python",
   "name": "python3"
  },
  "language_info": {
   "codemirror_mode": {
    "name": "ipython",
    "version": 3
   },
   "file_extension": ".py",
   "mimetype": "text/x-python",
   "name": "python",
   "nbconvert_exporter": "python",
   "pygments_lexer": "ipython3",
   "version": "3.6.2"
  }
 },
 "nbformat": 4,
 "nbformat_minor": 2
}
