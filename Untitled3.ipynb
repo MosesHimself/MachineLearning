{
 "cells": [
  {
   "cell_type": "code",
   "execution_count": 136,
   "metadata": {
    "collapsed": true
   },
   "outputs": [],
   "source": [
    "from matplotlib import pyplot as plt\n",
    "import scipy.io as sp\n",
    "import numpy as np\n"
   ]
  },
  {
   "cell_type": "code",
   "execution_count": 137,
   "metadata": {},
   "outputs": [],
   "source": [
    "classNums = 3\n",
    "featureNums = 3\n",
    "sampleNums = 10\n",
    "\n",
    "class1 = np.array([[0.42, -0.087, 0.58],\n",
    "                  [-0.2, -3.3, -3.4],\n",
    "                  [1.3, -0.32, 1.7],\n",
    "                  [0.39, 0.71, 0.23],\n",
    "                  [-1.6, -5.3, -0.15],\n",
    "                  [-0.029, 0.89, -4.7],\n",
    "                  [-0.23, 1.9, 2.2],\n",
    "                  [0.27, -0.3, -0.87],\n",
    "                  [-1.9, 0.76, -2.1],\n",
    "                  [0.87, -1.0, -2.6]])\n",
    "\n",
    "class2 = np.array([[-0.4, 0.58, 0.089],\n",
    "                  [-0.31, 0.27, -0.04],\n",
    "                  [0.38, 0.055, -0.035],\n",
    "                  [-0.15, 0.53, 0.011],\n",
    "                  [-0.35, 0.47, 0.034],\n",
    "                  [0.17, 0.69, 0.1],\n",
    "                  [-0.011, 0.55, -0.18],\n",
    "                  [-0.27, 0.61, 0.12],\n",
    "                  [-0.065, 0.49, 0.0012],\n",
    "                  [-0.12, 0.054, -0.063]])\n",
    "\n",
    "class3 = np.array([[0.83, 1.6, -0.014],\n",
    "                  [1.1, 1.6, 0.48],\n",
    "                  [-0.44, -0.41, 0.32],\n",
    "                  [0.047, -0.45,  1.4],\n",
    "                  [0.28, 0.35, 3.1],\n",
    "                  [-0.39, -0.48, 0.11],\n",
    "                  [0.34, -0.079, 0.14],\n",
    "                  [-0.3, -0.22, 2.2],\n",
    "                  [1.1, 1.2, -0.46],\n",
    "                  [0.18, -0.11, -0.49]])\n",
    "\n"
   ]
  },
  {
   "cell_type": "code",
   "execution_count": 138,
   "metadata": {},
   "outputs": [],
   "source": [
    "feature1 = np.empty((30,1))\n",
    "feature2 = np.empty((30,1))\n",
    "feature3 = np.empty((30,1))\n",
    "for i in range(sampleNums):\n",
    "    feature1[i] = class1[i][0]\n",
    "    feature1[i + 10] = class2[i][0]\n",
    "    feature1[i + 20] = class3[i][0]\n",
    "    feature2[i] = class1[i][1]\n",
    "    feature2[i + 10] = class2[i][1]\n",
    "    feature2[i + 20] = class3[i][1]\n",
    "    feature3[i] = class1[i][2]\n",
    "    feature3[i + 10] = class2[i][2]\n",
    "    feature3[i + 20] = class3[i][2]\n",
    "\n",
    "\n",
    "    \n"
   ]
  },
  {
   "cell_type": "code",
   "execution_count": 141,
   "metadata": {},
   "outputs": [],
   "source": [
    "def maximum_likelihood1(x):\n",
    "    #x = np.transpose(x)\n",
    "    n = x.size\n",
    "    \n",
    "    mu = sum(x) / n\n",
    "    \n",
    "    \n",
    "    total = 0\n",
    "    \n",
    "    for i in range(n):\n",
    "        val = x[i] - mu\n",
    "        val *= val\n",
    "        total += val\n",
    "        \n",
    "    sigma = total / n\n",
    "    \n",
    "    print(\"mu is:\")\n",
    "    print(mu)\n",
    "    print(\"sigma is:\")\n",
    "    print(sigma)\n",
    "    \n",
    "    \n",
    "def average(x):\n",
    "    average = sum(x) / x.size\n",
    "    return average\n",
    "\n",
    "#multivariate\n",
    "def mean(x):\n",
    "    return np.apply_along_axis(average, axis=0, arr=x)\n",
    "\n",
    "    \n",
    "def cov(c1, c2, d, m):\n",
    "    n, v = d.shape\n",
    "    sum = 0\n",
    "    for i in range(0, n):\n",
    "        x = d[i][c1] - m[c1]\n",
    "        y = d[i][c2] - m[c2]\n",
    "        sum += x * y\n",
    "    return sum / (n - 1)\n",
    "\n",
    "\n",
    "def covariance(x):\n",
    "    n, v = x.shape\n",
    "    array = np.zeros(shape=(v,v))\n",
    "    for i in range(0,v):\n",
    "        for j in range(0,v):\n",
    "            array[i][j] = cov(i, j, x, mean(x))\n",
    "    return array\n",
    "\n",
    "    \n",
    "def maximum_likelihood2(x):\n",
    "    #x = np.transpose(x)\n",
    "    mu = mean(x)\n",
    "    sigma = covariance(x)\n",
    "    print(\"mu is:\")\n",
    "    print(mu)\n",
    "    print(\"sigma is:\")\n",
    "    print(sigma)"
   ]
  },
  {
   "cell_type": "code",
   "execution_count": 145,
   "metadata": {},
   "outputs": [
    {
     "name": "stdout",
     "output_type": "stream",
     "text": [
      "----\n",
      "--feature 1--\n",
      "mu is:\n",
      "[-0.0709]\n",
      "sigma is:\n",
      "[ 0.90617729]\n",
      "----\n",
      "--feature 2--\n",
      "mu is:\n",
      "[-0.6047]\n",
      "sigma is:\n",
      "[ 4.20071481]\n",
      "----\n",
      "--feature 3--\n",
      "mu is:\n",
      "[-0.911]\n",
      "sigma is:\n",
      "[ 4.541949]\n"
     ]
    }
   ],
   "source": [
    "#part a\n",
    "print(\"----\")\n",
    "print(\"--feature 1--\")\n",
    "maximum_likelihood1(feature1[:10])\n",
    "\n",
    "print(\"----\")\n",
    "print(\"--feature 2--\")\n",
    "maximum_likelihood1(feature2[:10])\n",
    "\n",
    "print(\"----\")\n",
    "print(\"--feature 3--\")\n",
    "maximum_likelihood1(feature3[:10])\n",
    "\n"
   ]
  },
  {
   "cell_type": "code",
   "execution_count": 146,
   "metadata": {},
   "outputs": [
    {
     "name": "stdout",
     "output_type": "stream",
     "text": [
      "----\n",
      "--feature 1 and 2--\n",
      "mu is:\n",
      "[ 0.11   -1.6935 -1.41  ]\n",
      "sigma is:\n",
      "[[ 0.1922     0.99603    1.2338   ]\n",
      " [ 0.99603    5.1616845  6.39387  ]\n",
      " [ 1.2338     6.39387    7.9202   ]]\n",
      "----\n",
      "--feature 1 and 3--\n",
      "mu is:\n",
      "[ 0.86   -0.2035  1.14  ]\n",
      "sigma is:\n",
      "[[ 0.3872    -0.10252    0.4928   ]\n",
      " [-0.10252    0.0271445 -0.13048  ]\n",
      " [ 0.4928    -0.13048    0.6272   ]]\n",
      "----\n",
      "--feature 2 and 3--\n",
      "mu is:\n",
      "[ 0.55 -1.81 -0.85]\n",
      "sigma is:\n",
      "[[  1.125    2.235    3.825 ]\n",
      " [  2.235    4.4402   7.599 ]\n",
      " [  3.825    7.599   13.005 ]]\n"
     ]
    }
   ],
   "source": [
    "#part b\n",
    "x1 = np.array([class1[0], class1[1]])\n",
    "x2 = np.array([class1[0], class1[2]])\n",
    "x3 = np.array([class1[1], class1[2]])\n",
    "\n",
    "print(\"----\")\n",
    "print(\"--feature 1 and 2--\")\n",
    "maximum_likelihood2(x1)\n",
    "\n",
    "print(\"----\")\n",
    "print(\"--feature 1 and 3--\")\n",
    "maximum_likelihood2(x2)\n",
    "\n",
    "print(\"----\")\n",
    "print(\"--feature 2 and 3--\")\n",
    "maximum_likelihood2(x3)"
   ]
  },
  {
   "cell_type": "code",
   "execution_count": 147,
   "metadata": {},
   "outputs": [
    {
     "name": "stdout",
     "output_type": "stream",
     "text": [
      "mu is:\n",
      "[-0.0709 -0.6047 -0.911 ]\n",
      "sigma is:\n",
      "[[ 1.00686366  0.63086863  0.43786678]\n",
      " [ 0.63086863  4.6674609   0.81522478]\n",
      " [ 0.43786678  0.81522478  5.04661   ]]\n"
     ]
    }
   ],
   "source": [
    "#part c\n",
    "maximum_likelihood2(class1)"
   ]
  },
  {
   "cell_type": "code",
   "execution_count": 148,
   "metadata": {},
   "outputs": [
    {
     "name": "stdout",
     "output_type": "stream",
     "text": [
      "mu is:\n",
      "[-0.1126   0.4299   0.00372]\n",
      "sigma is:\n",
      "[[ 0.0599176  -0.01627918 -0.00575548]\n",
      " [-0.01627918  0.05107788  0.00945541]\n",
      " [-0.00575548  0.00945541  0.00807278]]\n"
     ]
    }
   ],
   "source": [
    "#part d\n",
    "maximum_likelihood2(class2)"
   ]
  },
  {
   "cell_type": "code",
   "execution_count": null,
   "metadata": {
    "collapsed": true
   },
   "outputs": [],
   "source": []
  }
 ],
 "metadata": {
  "kernelspec": {
   "display_name": "Python 3",
   "language": "python",
   "name": "python3"
  },
  "language_info": {
   "codemirror_mode": {
    "name": "ipython",
    "version": 3
   },
   "file_extension": ".py",
   "mimetype": "text/x-python",
   "name": "python",
   "nbconvert_exporter": "python",
   "pygments_lexer": "ipython3",
   "version": "3.6.2"
  }
 },
 "nbformat": 4,
 "nbformat_minor": 2
}
