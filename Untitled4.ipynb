{
 "cells": [
  {
   "cell_type": "code",
   "execution_count": 37,
   "metadata": {
    "collapsed": true
   },
   "outputs": [],
   "source": [
    "from matplotlib import pyplot as plt\n",
    "import scipy.io as sp\n",
    "import numpy as np\n",
    "from numpy.linalg import inv\n",
    "from mpl_toolkits.mplot3d import Axes3D\n",
    "from scipy.stats import multivariate_normal as mn\n",
    "from scipy.io.matlab import loadmat"
   ]
  },
  {
   "cell_type": "code",
   "execution_count": 38,
   "metadata": {
    "collapsed": true
   },
   "outputs": [],
   "source": [
    "#univariate\n",
    "def average(x):\n",
    "    average = sum(x) / x.size\n",
    "    return average\n",
    "\n",
    "#multivariate\n",
    "def mean(x):\n",
    "    return np.apply_along_axis(average, axis=0, arr=x)\n",
    "\n",
    "\n",
    "#the variance-covariance matrix consists of the variances\n",
    "#of the variables along the main diagonal and the covariances\n",
    "#between each pair of variables in the other matrix positions.\n",
    "\n",
    "def cov(c1, c2, d, m):\n",
    "    n, v = d.shape\n",
    "    sum = 0\n",
    "    for i in range(0, n):\n",
    "        x = d[i][c1] - m[c1]\n",
    "        y = d[i][c2] - m[c2]\n",
    "        sum += x * y\n",
    "    return sum / (n - 1)\n",
    "\n",
    "\n",
    "def covariance(x):\n",
    "    n, v = x.shape\n",
    "    array = np.zeros(shape=(v,v))\n",
    "    for i in range(0,v):\n",
    "        for j in range(0,v):\n",
    "            array[i][j] = cov(i, j, x, mean(x))\n",
    "    return array\n",
    "\n",
    "#(x - mu)T * sigma_i * (x - mu)\n",
    "def mahalanobis(x, covariance, mean):\n",
    "    meanDistance = np.subtract(x, mean)\n",
    "    tmp = np.matmul(meanDistance, inv(covariance))\n",
    "    result = np.matmul(tmp, meanDistance.transpose())\n",
    "    return np.sqrt(result)\n",
    "\n",
    "def discriminant(x, covariance, mean, prior, dimension):\n",
    "    maha = (-0.5) * mahalanobis(x, covariance, mean)\n",
    "    det = (-0.5) * np.log(np.linalg.det(covariance))\n",
    "    dem = (dimension / -2) * (np.log(2 * np.pi))\n",
    "    pri = np.log(prior)\n",
    "    return (maha - dem + det + pri)\n"
   ]
  },
  {
   "cell_type": "code",
   "execution_count": 39,
   "metadata": {},
   "outputs": [],
   "source": [
    "trainingData, testingData = loadmat(\"./test_train_data_class3.mat\")[\"Data\"][0][0]\n",
    "\n",
    "trainingData = np.array(trainingData[0])\n",
    "testingData = np.array(testingData[0])\n",
    "\n",
    "for i in range(trainingData.shape[0]):\n",
    "    trainingData[i] = np.transpose(trainingData[i])\n",
    "\n",
    "for i in range(testingData.shape[0]):\n",
    "    testingData[i] = np.transpose(testingData[i])\n"
   ]
  },
  {
   "cell_type": "code",
   "execution_count": 40,
   "metadata": {
    "scrolled": true
   },
   "outputs": [
    {
     "data": {
      "image/png": "[encoded data removed]",
      "text/plain": [
       "<matplotlib.figure.Figure at 0x11a3594e0>"
      ]
     },
     "metadata": {},
     "output_type": "display_data"
    }
   ],
   "source": [
    "v"
   ]
  },
  {
   "cell_type": "code",
   "execution_count": 41,
   "metadata": {
    "collapsed": true
   },
   "outputs": [],
   "source": [
    "means = np.array([m1, m2, m3])\n",
    "covs = np.array([covariance(trainingData[0]), covariance(trainingData[1]), covariance(trainingData[2])])"
   ]
  },
  {
   "cell_type": "code",
   "execution_count": 42,
   "metadata": {
    "collapsed": true
   },
   "outputs": [],
   "source": [
    "classes = trainingData.shape[0]\n",
    "dimension = trainingData[0].shape[1]\n",
    "size = 0\n",
    "for i in range(classes):\n",
    "    size += trainingData[i].shape[0]\n",
    "\n",
    "\n"
   ]
  },
  {
   "cell_type": "code",
   "execution_count": 43,
   "metadata": {},
   "outputs": [],
   "source": [
    "flattened = np.zeros(2)\n",
    "training = np.array([], dtype=int)\n",
    "for i in range(classes):\n",
    "    for j in range(trainingData[i].shape[0]):\n",
    "        training = np.append(training, i)\n",
    "        flat = np.vstack([flattened, trainingData[i][j]])\n",
    "\n",
    "flattened = flattened[1:len(flat) + 1]\n",
    "predicted = np.array([], dtype=int)\n",
    "discriminants = np.zeros((size, classes))\n",
    "\n",
    "for i, point in enumerate(flattened):\n",
    "    for j in range(classes):\n",
    "        m = discriminant(point, covs[j], means[j], (1/3), dimension)\n",
    "        discriminants[i, j] = m\n",
    "        #print(m)\n",
    "        \n",
    "predicted = np.argmax(discriminants, axis=1)\n"
   ]
  },
  {
   "cell_type": "code",
   "execution_count": 44,
   "metadata": {},
   "outputs": [],
   "source": [
    "confusion = np.zeros((classes, classes), dtype=int)\n",
    "\n",
    "for t, p in zip(training, predicted):\n",
    "    confusion[t, p] += 1\n",
    "\n",
    "acc = (training == predicted).sum() / len(training)\n",
    "\n"
   ]
  },
  {
   "cell_type": "code",
   "execution_count": null,
   "metadata": {
    "collapsed": true
   },
   "outputs": [],
   "source": []
  }
 ],
 "metadata": {
  "kernelspec": {
   "display_name": "Python 3",
   "language": "python",
   "name": "python3"
  },
  "language_info": {
   "codemirror_mode": {
    "name": "ipython",
    "version": 3
   },
   "file_extension": ".py",
   "mimetype": "text/x-python",
   "name": "python",
   "nbconvert_exporter": "python",
   "pygments_lexer": "ipython3",
   "version": "3.6.2"
  }
 },
 "nbformat": 4,
 "nbformat_minor": 2
}
